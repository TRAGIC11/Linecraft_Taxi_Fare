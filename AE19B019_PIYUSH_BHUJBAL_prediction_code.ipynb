{
 "cells": [
  {
   "cell_type": "code",
   "execution_count": 1,
   "id": "725736be",
   "metadata": {},
   "outputs": [],
   "source": [
    "import pandas as pd\n",
    "import matplotlib.pyplot as plt\n",
    "import seaborn as sns\n",
    "import numpy as np\n",
    "from sklearn.model_selection import train_test_split\n",
    "from sklearn.linear_model import LinearRegression\n",
    "from sklearn.linear_model import Lasso\n",
    "from sklearn import metrics\n",
    "import calendar\n",
    "import xgboost as xgb"
   ]
  },
  {
   "cell_type": "markdown",
   "id": "7fc4ded2",
   "metadata": {},
   "source": [
    "# Fare Price Prediction"
   ]
  },
  {
   "cell_type": "markdown",
   "id": "d55be3e5",
   "metadata": {},
   "source": [
    "### Data Loading\n"
   ]
  },
  {
   "cell_type": "code",
   "execution_count": 2,
   "id": "fdec5f02",
   "metadata": {},
   "outputs": [],
   "source": [
    "training = pd.read_csv('train_data_iitm.csv')\n",
    "test = pd.read_csv('test_data_iitm.csv')\n",
    "taxi_mapping = pd.read_csv('taxi_zone_mapping.csv')"
   ]
  },
  {
   "cell_type": "code",
   "execution_count": 3,
   "id": "e0378822",
   "metadata": {},
   "outputs": [
    {
     "data": {
      "text/plain": [
       "(60000, 12)"
      ]
     },
     "execution_count": 3,
     "metadata": {},
     "output_type": "execute_result"
    }
   ],
   "source": [
    "training.shape"
   ]
  },
  {
   "cell_type": "code",
   "execution_count": 4,
   "id": "3c093b26",
   "metadata": {},
   "outputs": [
    {
     "data": {
      "text/html": [
       "<div>\n",
       "<style scoped>\n",
       "    .dataframe tbody tr th:only-of-type {\n",
       "        vertical-align: middle;\n",
       "    }\n",
       "\n",
       "    .dataframe tbody tr th {\n",
       "        vertical-align: top;\n",
       "    }\n",
       "\n",
       "    .dataframe thead th {\n",
       "        text-align: right;\n",
       "    }\n",
       "</style>\n",
       "<table border=\"1\" class=\"dataframe\">\n",
       "  <thead>\n",
       "    <tr style=\"text-align: right;\">\n",
       "      <th></th>\n",
       "      <th>VendorID</th>\n",
       "      <th>tpep_pickup_datetime</th>\n",
       "      <th>tpep_dropoff_datetime</th>\n",
       "      <th>passenger_count</th>\n",
       "      <th>trip_distance</th>\n",
       "      <th>RatecodeID</th>\n",
       "      <th>store_and_fwd_flag</th>\n",
       "      <th>PULocationID</th>\n",
       "      <th>DOLocationID</th>\n",
       "      <th>payment_type</th>\n",
       "      <th>fare_amount</th>\n",
       "      <th>congestion_surcharge</th>\n",
       "    </tr>\n",
       "  </thead>\n",
       "  <tbody>\n",
       "    <tr>\n",
       "      <th>0</th>\n",
       "      <td>2.0</td>\n",
       "      <td>2020-06-10 13:36:49</td>\n",
       "      <td>2020-06-10 13:51:08</td>\n",
       "      <td>1.0</td>\n",
       "      <td>2.73</td>\n",
       "      <td>1.0</td>\n",
       "      <td>N</td>\n",
       "      <td>224</td>\n",
       "      <td>148</td>\n",
       "      <td>2.0</td>\n",
       "      <td>12.00</td>\n",
       "      <td>2.5</td>\n",
       "    </tr>\n",
       "    <tr>\n",
       "      <th>1</th>\n",
       "      <td>NaN</td>\n",
       "      <td>2020-06-13 06:19:00</td>\n",
       "      <td>2020-06-13 06:37:00</td>\n",
       "      <td>NaN</td>\n",
       "      <td>11.58</td>\n",
       "      <td>NaN</td>\n",
       "      <td>NaN</td>\n",
       "      <td>56</td>\n",
       "      <td>42</td>\n",
       "      <td>NaN</td>\n",
       "      <td>28.81</td>\n",
       "      <td>0.0</td>\n",
       "    </tr>\n",
       "    <tr>\n",
       "      <th>2</th>\n",
       "      <td>2.0</td>\n",
       "      <td>2020-06-20 07:59:23</td>\n",
       "      <td>2020-06-20 08:05:39</td>\n",
       "      <td>1.0</td>\n",
       "      <td>2.05</td>\n",
       "      <td>1.0</td>\n",
       "      <td>N</td>\n",
       "      <td>79</td>\n",
       "      <td>68</td>\n",
       "      <td>2.0</td>\n",
       "      <td>8.00</td>\n",
       "      <td>2.5</td>\n",
       "    </tr>\n",
       "    <tr>\n",
       "      <th>3</th>\n",
       "      <td>1.0</td>\n",
       "      <td>2020-06-27 15:11:32</td>\n",
       "      <td>2020-06-27 15:15:02</td>\n",
       "      <td>1.0</td>\n",
       "      <td>1.40</td>\n",
       "      <td>1.0</td>\n",
       "      <td>N</td>\n",
       "      <td>236</td>\n",
       "      <td>75</td>\n",
       "      <td>1.0</td>\n",
       "      <td>6.00</td>\n",
       "      <td>2.5</td>\n",
       "    </tr>\n",
       "    <tr>\n",
       "      <th>4</th>\n",
       "      <td>1.0</td>\n",
       "      <td>2020-06-26 16:00:36</td>\n",
       "      <td>2020-06-26 16:02:28</td>\n",
       "      <td>1.0</td>\n",
       "      <td>0.60</td>\n",
       "      <td>1.0</td>\n",
       "      <td>N</td>\n",
       "      <td>186</td>\n",
       "      <td>90</td>\n",
       "      <td>2.0</td>\n",
       "      <td>4.00</td>\n",
       "      <td>2.5</td>\n",
       "    </tr>\n",
       "  </tbody>\n",
       "</table>\n",
       "</div>"
      ],
      "text/plain": [
       "   VendorID tpep_pickup_datetime tpep_dropoff_datetime  passenger_count  \\\n",
       "0       2.0  2020-06-10 13:36:49   2020-06-10 13:51:08              1.0   \n",
       "1       NaN  2020-06-13 06:19:00   2020-06-13 06:37:00              NaN   \n",
       "2       2.0  2020-06-20 07:59:23   2020-06-20 08:05:39              1.0   \n",
       "3       1.0  2020-06-27 15:11:32   2020-06-27 15:15:02              1.0   \n",
       "4       1.0  2020-06-26 16:00:36   2020-06-26 16:02:28              1.0   \n",
       "\n",
       "   trip_distance  RatecodeID store_and_fwd_flag  PULocationID  DOLocationID  \\\n",
       "0           2.73         1.0                  N           224           148   \n",
       "1          11.58         NaN                NaN            56            42   \n",
       "2           2.05         1.0                  N            79            68   \n",
       "3           1.40         1.0                  N           236            75   \n",
       "4           0.60         1.0                  N           186            90   \n",
       "\n",
       "   payment_type  fare_amount  congestion_surcharge  \n",
       "0           2.0        12.00                   2.5  \n",
       "1           NaN        28.81                   0.0  \n",
       "2           2.0         8.00                   2.5  \n",
       "3           1.0         6.00                   2.5  \n",
       "4           2.0         4.00                   2.5  "
      ]
     },
     "execution_count": 4,
     "metadata": {},
     "output_type": "execute_result"
    }
   ],
   "source": [
    "training.head()"
   ]
  },
  {
   "cell_type": "code",
   "execution_count": 5,
   "id": "632ff746",
   "metadata": {},
   "outputs": [
    {
     "name": "stdout",
     "output_type": "stream",
     "text": [
      "<class 'pandas.core.frame.DataFrame'>\n",
      "RangeIndex: 60000 entries, 0 to 59999\n",
      "Data columns (total 12 columns):\n",
      " #   Column                 Non-Null Count  Dtype  \n",
      "---  ------                 --------------  -----  \n",
      " 0   VendorID               54365 non-null  float64\n",
      " 1   tpep_pickup_datetime   60000 non-null  object \n",
      " 2   tpep_dropoff_datetime  60000 non-null  object \n",
      " 3   passenger_count        54365 non-null  float64\n",
      " 4   trip_distance          60000 non-null  float64\n",
      " 5   RatecodeID             54365 non-null  float64\n",
      " 6   store_and_fwd_flag     54365 non-null  object \n",
      " 7   PULocationID           60000 non-null  int64  \n",
      " 8   DOLocationID           60000 non-null  int64  \n",
      " 9   payment_type           54365 non-null  float64\n",
      " 10  fare_amount            60000 non-null  float64\n",
      " 11  congestion_surcharge   60000 non-null  float64\n",
      "dtypes: float64(7), int64(2), object(3)\n",
      "memory usage: 5.5+ MB\n"
     ]
    }
   ],
   "source": [
    "training.info()"
   ]
  },
  {
   "cell_type": "code",
   "execution_count": 6,
   "id": "7abdb78a",
   "metadata": {},
   "outputs": [
    {
     "data": {
      "text/plain": [
       "VendorID                 5635\n",
       "tpep_pickup_datetime        0\n",
       "tpep_dropoff_datetime       0\n",
       "passenger_count          5635\n",
       "trip_distance               0\n",
       "RatecodeID               5635\n",
       "store_and_fwd_flag       5635\n",
       "PULocationID                0\n",
       "DOLocationID                0\n",
       "payment_type             5635\n",
       "fare_amount                 0\n",
       "congestion_surcharge        0\n",
       "dtype: int64"
      ]
     },
     "execution_count": 6,
     "metadata": {},
     "output_type": "execute_result"
    }
   ],
   "source": [
    "training.isnull().sum()"
   ]
  },
  {
   "cell_type": "code",
   "execution_count": 7,
   "id": "4b5453c1",
   "metadata": {},
   "outputs": [],
   "source": [
    "training= training.dropna() "
   ]
  },
  {
   "cell_type": "code",
   "execution_count": 8,
   "id": "67aa166e",
   "metadata": {},
   "outputs": [
    {
     "data": {
      "text/plain": [
       "0        2.0\n",
       "2        2.0\n",
       "3        1.0\n",
       "4        1.0\n",
       "5        1.0\n",
       "        ... \n",
       "59995    1.0\n",
       "59996    2.0\n",
       "59997    1.0\n",
       "59998    2.0\n",
       "59999    1.0\n",
       "Name: VendorID, Length: 54365, dtype: float64"
      ]
     },
     "execution_count": 8,
     "metadata": {},
     "output_type": "execute_result"
    }
   ],
   "source": [
    "training.pop('VendorID')"
   ]
  },
  {
   "cell_type": "code",
   "execution_count": 9,
   "id": "4883993c",
   "metadata": {},
   "outputs": [
    {
     "data": {
      "text/html": [
       "<div>\n",
       "<style scoped>\n",
       "    .dataframe tbody tr th:only-of-type {\n",
       "        vertical-align: middle;\n",
       "    }\n",
       "\n",
       "    .dataframe tbody tr th {\n",
       "        vertical-align: top;\n",
       "    }\n",
       "\n",
       "    .dataframe thead th {\n",
       "        text-align: right;\n",
       "    }\n",
       "</style>\n",
       "<table border=\"1\" class=\"dataframe\">\n",
       "  <thead>\n",
       "    <tr style=\"text-align: right;\">\n",
       "      <th></th>\n",
       "      <th>tpep_pickup_datetime</th>\n",
       "      <th>tpep_dropoff_datetime</th>\n",
       "      <th>passenger_count</th>\n",
       "      <th>trip_distance</th>\n",
       "      <th>RatecodeID</th>\n",
       "      <th>store_and_fwd_flag</th>\n",
       "      <th>PULocationID</th>\n",
       "      <th>DOLocationID</th>\n",
       "      <th>payment_type</th>\n",
       "      <th>fare_amount</th>\n",
       "      <th>congestion_surcharge</th>\n",
       "    </tr>\n",
       "  </thead>\n",
       "  <tbody>\n",
       "    <tr>\n",
       "      <th>0</th>\n",
       "      <td>2020-06-10 13:36:49</td>\n",
       "      <td>2020-06-10 13:51:08</td>\n",
       "      <td>1.0</td>\n",
       "      <td>2.73</td>\n",
       "      <td>1.0</td>\n",
       "      <td>N</td>\n",
       "      <td>224</td>\n",
       "      <td>148</td>\n",
       "      <td>2.0</td>\n",
       "      <td>12.0</td>\n",
       "      <td>2.5</td>\n",
       "    </tr>\n",
       "    <tr>\n",
       "      <th>2</th>\n",
       "      <td>2020-06-20 07:59:23</td>\n",
       "      <td>2020-06-20 08:05:39</td>\n",
       "      <td>1.0</td>\n",
       "      <td>2.05</td>\n",
       "      <td>1.0</td>\n",
       "      <td>N</td>\n",
       "      <td>79</td>\n",
       "      <td>68</td>\n",
       "      <td>2.0</td>\n",
       "      <td>8.0</td>\n",
       "      <td>2.5</td>\n",
       "    </tr>\n",
       "    <tr>\n",
       "      <th>3</th>\n",
       "      <td>2020-06-27 15:11:32</td>\n",
       "      <td>2020-06-27 15:15:02</td>\n",
       "      <td>1.0</td>\n",
       "      <td>1.40</td>\n",
       "      <td>1.0</td>\n",
       "      <td>N</td>\n",
       "      <td>236</td>\n",
       "      <td>75</td>\n",
       "      <td>1.0</td>\n",
       "      <td>6.0</td>\n",
       "      <td>2.5</td>\n",
       "    </tr>\n",
       "    <tr>\n",
       "      <th>4</th>\n",
       "      <td>2020-06-26 16:00:36</td>\n",
       "      <td>2020-06-26 16:02:28</td>\n",
       "      <td>1.0</td>\n",
       "      <td>0.60</td>\n",
       "      <td>1.0</td>\n",
       "      <td>N</td>\n",
       "      <td>186</td>\n",
       "      <td>90</td>\n",
       "      <td>2.0</td>\n",
       "      <td>4.0</td>\n",
       "      <td>2.5</td>\n",
       "    </tr>\n",
       "    <tr>\n",
       "      <th>5</th>\n",
       "      <td>2020-06-10 13:00:08</td>\n",
       "      <td>2020-06-10 13:13:58</td>\n",
       "      <td>1.0</td>\n",
       "      <td>4.00</td>\n",
       "      <td>1.0</td>\n",
       "      <td>N</td>\n",
       "      <td>137</td>\n",
       "      <td>236</td>\n",
       "      <td>1.0</td>\n",
       "      <td>15.0</td>\n",
       "      <td>2.5</td>\n",
       "    </tr>\n",
       "  </tbody>\n",
       "</table>\n",
       "</div>"
      ],
      "text/plain": [
       "  tpep_pickup_datetime tpep_dropoff_datetime  passenger_count  trip_distance  \\\n",
       "0  2020-06-10 13:36:49   2020-06-10 13:51:08              1.0           2.73   \n",
       "2  2020-06-20 07:59:23   2020-06-20 08:05:39              1.0           2.05   \n",
       "3  2020-06-27 15:11:32   2020-06-27 15:15:02              1.0           1.40   \n",
       "4  2020-06-26 16:00:36   2020-06-26 16:02:28              1.0           0.60   \n",
       "5  2020-06-10 13:00:08   2020-06-10 13:13:58              1.0           4.00   \n",
       "\n",
       "   RatecodeID store_and_fwd_flag  PULocationID  DOLocationID  payment_type  \\\n",
       "0         1.0                  N           224           148           2.0   \n",
       "2         1.0                  N            79            68           2.0   \n",
       "3         1.0                  N           236            75           1.0   \n",
       "4         1.0                  N           186            90           2.0   \n",
       "5         1.0                  N           137           236           1.0   \n",
       "\n",
       "   fare_amount  congestion_surcharge  \n",
       "0         12.0                   2.5  \n",
       "2          8.0                   2.5  \n",
       "3          6.0                   2.5  \n",
       "4          4.0                   2.5  \n",
       "5         15.0                   2.5  "
      ]
     },
     "execution_count": 9,
     "metadata": {},
     "output_type": "execute_result"
    }
   ],
   "source": [
    "training.head()"
   ]
  },
  {
   "cell_type": "markdown",
   "id": "4d50496f",
   "metadata": {},
   "source": [
    "### Trimming Data and throwing useless information out"
   ]
  },
  {
   "cell_type": "code",
   "execution_count": 10,
   "id": "283e62e9",
   "metadata": {},
   "outputs": [
    {
     "data": {
      "text/html": [
       "<div>\n",
       "<style scoped>\n",
       "    .dataframe tbody tr th:only-of-type {\n",
       "        vertical-align: middle;\n",
       "    }\n",
       "\n",
       "    .dataframe tbody tr th {\n",
       "        vertical-align: top;\n",
       "    }\n",
       "\n",
       "    .dataframe thead th {\n",
       "        text-align: right;\n",
       "    }\n",
       "</style>\n",
       "<table border=\"1\" class=\"dataframe\">\n",
       "  <thead>\n",
       "    <tr style=\"text-align: right;\">\n",
       "      <th></th>\n",
       "      <th>tpep_pickup_datetime</th>\n",
       "      <th>tpep_dropoff_datetime</th>\n",
       "      <th>passenger_count</th>\n",
       "      <th>trip_distance</th>\n",
       "      <th>RatecodeID</th>\n",
       "      <th>store_and_fwd_flag</th>\n",
       "      <th>PULocationID</th>\n",
       "      <th>DOLocationID</th>\n",
       "      <th>payment_type</th>\n",
       "      <th>fare_amount</th>\n",
       "      <th>congestion_surcharge</th>\n",
       "      <th>pickup_datetime</th>\n",
       "      <th>dropoff_datetime</th>\n",
       "      <th>pickup_date</th>\n",
       "      <th>pickup_day</th>\n",
       "      <th>pickup_hour</th>\n",
       "      <th>pickup_day_of_week</th>\n",
       "      <th>pickup_month</th>\n",
       "      <th>pickup_year</th>\n",
       "      <th>time</th>\n",
       "    </tr>\n",
       "  </thead>\n",
       "  <tbody>\n",
       "    <tr>\n",
       "      <th>0</th>\n",
       "      <td>2020-06-10 13:36:49</td>\n",
       "      <td>2020-06-10 13:51:08</td>\n",
       "      <td>1.0</td>\n",
       "      <td>2.73</td>\n",
       "      <td>1.0</td>\n",
       "      <td>N</td>\n",
       "      <td>224</td>\n",
       "      <td>148</td>\n",
       "      <td>2.0</td>\n",
       "      <td>12.0</td>\n",
       "      <td>2.5</td>\n",
       "      <td>2020-06-10 13:36:49</td>\n",
       "      <td>2020-06-10 13:51:08</td>\n",
       "      <td>2020-06-10</td>\n",
       "      <td>10</td>\n",
       "      <td>13</td>\n",
       "      <td>Wednesday</td>\n",
       "      <td>6</td>\n",
       "      <td>2020</td>\n",
       "      <td>14.316667</td>\n",
       "    </tr>\n",
       "    <tr>\n",
       "      <th>2</th>\n",
       "      <td>2020-06-20 07:59:23</td>\n",
       "      <td>2020-06-20 08:05:39</td>\n",
       "      <td>1.0</td>\n",
       "      <td>2.05</td>\n",
       "      <td>1.0</td>\n",
       "      <td>N</td>\n",
       "      <td>79</td>\n",
       "      <td>68</td>\n",
       "      <td>2.0</td>\n",
       "      <td>8.0</td>\n",
       "      <td>2.5</td>\n",
       "      <td>2020-06-20 07:59:23</td>\n",
       "      <td>2020-06-20 08:05:39</td>\n",
       "      <td>2020-06-20</td>\n",
       "      <td>20</td>\n",
       "      <td>7</td>\n",
       "      <td>Saturday</td>\n",
       "      <td>6</td>\n",
       "      <td>2020</td>\n",
       "      <td>6.266667</td>\n",
       "    </tr>\n",
       "    <tr>\n",
       "      <th>3</th>\n",
       "      <td>2020-06-27 15:11:32</td>\n",
       "      <td>2020-06-27 15:15:02</td>\n",
       "      <td>1.0</td>\n",
       "      <td>1.40</td>\n",
       "      <td>1.0</td>\n",
       "      <td>N</td>\n",
       "      <td>236</td>\n",
       "      <td>75</td>\n",
       "      <td>1.0</td>\n",
       "      <td>6.0</td>\n",
       "      <td>2.5</td>\n",
       "      <td>2020-06-27 15:11:32</td>\n",
       "      <td>2020-06-27 15:15:02</td>\n",
       "      <td>2020-06-27</td>\n",
       "      <td>27</td>\n",
       "      <td>15</td>\n",
       "      <td>Saturday</td>\n",
       "      <td>6</td>\n",
       "      <td>2020</td>\n",
       "      <td>3.500000</td>\n",
       "    </tr>\n",
       "    <tr>\n",
       "      <th>4</th>\n",
       "      <td>2020-06-26 16:00:36</td>\n",
       "      <td>2020-06-26 16:02:28</td>\n",
       "      <td>1.0</td>\n",
       "      <td>0.60</td>\n",
       "      <td>1.0</td>\n",
       "      <td>N</td>\n",
       "      <td>186</td>\n",
       "      <td>90</td>\n",
       "      <td>2.0</td>\n",
       "      <td>4.0</td>\n",
       "      <td>2.5</td>\n",
       "      <td>2020-06-26 16:00:36</td>\n",
       "      <td>2020-06-26 16:02:28</td>\n",
       "      <td>2020-06-26</td>\n",
       "      <td>26</td>\n",
       "      <td>16</td>\n",
       "      <td>Friday</td>\n",
       "      <td>6</td>\n",
       "      <td>2020</td>\n",
       "      <td>1.866667</td>\n",
       "    </tr>\n",
       "    <tr>\n",
       "      <th>5</th>\n",
       "      <td>2020-06-10 13:00:08</td>\n",
       "      <td>2020-06-10 13:13:58</td>\n",
       "      <td>1.0</td>\n",
       "      <td>4.00</td>\n",
       "      <td>1.0</td>\n",
       "      <td>N</td>\n",
       "      <td>137</td>\n",
       "      <td>236</td>\n",
       "      <td>1.0</td>\n",
       "      <td>15.0</td>\n",
       "      <td>2.5</td>\n",
       "      <td>2020-06-10 13:00:08</td>\n",
       "      <td>2020-06-10 13:13:58</td>\n",
       "      <td>2020-06-10</td>\n",
       "      <td>10</td>\n",
       "      <td>13</td>\n",
       "      <td>Wednesday</td>\n",
       "      <td>6</td>\n",
       "      <td>2020</td>\n",
       "      <td>13.833333</td>\n",
       "    </tr>\n",
       "  </tbody>\n",
       "</table>\n",
       "</div>"
      ],
      "text/plain": [
       "  tpep_pickup_datetime tpep_dropoff_datetime  passenger_count  trip_distance  \\\n",
       "0  2020-06-10 13:36:49   2020-06-10 13:51:08              1.0           2.73   \n",
       "2  2020-06-20 07:59:23   2020-06-20 08:05:39              1.0           2.05   \n",
       "3  2020-06-27 15:11:32   2020-06-27 15:15:02              1.0           1.40   \n",
       "4  2020-06-26 16:00:36   2020-06-26 16:02:28              1.0           0.60   \n",
       "5  2020-06-10 13:00:08   2020-06-10 13:13:58              1.0           4.00   \n",
       "\n",
       "   RatecodeID store_and_fwd_flag  PULocationID  DOLocationID  payment_type  \\\n",
       "0         1.0                  N           224           148           2.0   \n",
       "2         1.0                  N            79            68           2.0   \n",
       "3         1.0                  N           236            75           1.0   \n",
       "4         1.0                  N           186            90           2.0   \n",
       "5         1.0                  N           137           236           1.0   \n",
       "\n",
       "   fare_amount  congestion_surcharge     pickup_datetime    dropoff_datetime  \\\n",
       "0         12.0                   2.5 2020-06-10 13:36:49 2020-06-10 13:51:08   \n",
       "2          8.0                   2.5 2020-06-20 07:59:23 2020-06-20 08:05:39   \n",
       "3          6.0                   2.5 2020-06-27 15:11:32 2020-06-27 15:15:02   \n",
       "4          4.0                   2.5 2020-06-26 16:00:36 2020-06-26 16:02:28   \n",
       "5         15.0                   2.5 2020-06-10 13:00:08 2020-06-10 13:13:58   \n",
       "\n",
       "  pickup_date  pickup_day  pickup_hour pickup_day_of_week  pickup_month  \\\n",
       "0  2020-06-10          10           13          Wednesday             6   \n",
       "2  2020-06-20          20            7           Saturday             6   \n",
       "3  2020-06-27          27           15           Saturday             6   \n",
       "4  2020-06-26          26           16             Friday             6   \n",
       "5  2020-06-10          10           13          Wednesday             6   \n",
       "\n",
       "   pickup_year       time  \n",
       "0         2020  14.316667  \n",
       "2         2020   6.266667  \n",
       "3         2020   3.500000  \n",
       "4         2020   1.866667  \n",
       "5         2020  13.833333  "
      ]
     },
     "execution_count": 10,
     "metadata": {},
     "output_type": "execute_result"
    }
   ],
   "source": [
    "training['pickup_datetime']=pd.to_datetime(training['tpep_pickup_datetime'],format='%Y-%m-%d %H:%M:%S')\n",
    "training['dropoff_datetime']=pd.to_datetime(training['tpep_dropoff_datetime'],format='%Y-%m-%d %H:%M:%S')\n",
    "training['pickup_date']= training['pickup_datetime'].dt.date\n",
    "training['pickup_day']=training['pickup_datetime'].apply(lambda x:x.day)\n",
    "training['pickup_hour']=training['pickup_datetime'].apply(lambda x:x.hour)\n",
    "training['pickup_day_of_week']=training['pickup_datetime'].apply(lambda x:calendar.day_name[x.weekday()])\n",
    "training['pickup_month']=training['pickup_datetime'].apply(lambda x:x.month)\n",
    "training['pickup_year']=training['pickup_datetime'].apply(lambda x:x.year)\n",
    "training['time'] = (training.dropoff_datetime - training.pickup_datetime) / pd.Timedelta(minutes=1)\n",
    "training.head()"
   ]
  },
  {
   "cell_type": "code",
   "execution_count": 11,
   "id": "9b3d14f2",
   "metadata": {},
   "outputs": [
    {
     "data": {
      "text/plain": [
       "2020    54364\n",
       "2009        1\n",
       "Name: pickup_year, dtype: int64"
      ]
     },
     "execution_count": 11,
     "metadata": {},
     "output_type": "execute_result"
    }
   ],
   "source": [
    "training['pickup_year'].value_counts()"
   ]
  },
  {
   "cell_type": "code",
   "execution_count": 12,
   "id": "7f4fd2f2",
   "metadata": {},
   "outputs": [
    {
     "data": {
      "text/plain": [
       "6    54362\n",
       "1        1\n",
       "5        1\n",
       "7        1\n",
       "Name: pickup_month, dtype: int64"
      ]
     },
     "execution_count": 12,
     "metadata": {},
     "output_type": "execute_result"
    }
   ],
   "source": [
    "training['pickup_month'].value_counts()"
   ]
  },
  {
   "cell_type": "code",
   "execution_count": 13,
   "id": "e9f5b691",
   "metadata": {},
   "outputs": [
    {
     "data": {
      "text/plain": [
       "N    53933\n",
       "Y      432\n",
       "Name: store_and_fwd_flag, dtype: int64"
      ]
     },
     "execution_count": 13,
     "metadata": {},
     "output_type": "execute_result"
    }
   ],
   "source": [
    "training['store_and_fwd_flag'].value_counts()"
   ]
  },
  {
   "cell_type": "code",
   "execution_count": 14,
   "id": "b0717a6d",
   "metadata": {},
   "outputs": [],
   "source": [
    "training = training.drop(['tpep_pickup_datetime','tpep_dropoff_datetime','pickup_datetime','dropoff_datetime','pickup_date','pickup_day','pickup_month','pickup_year','payment_type'],axis = 1)"
   ]
  },
  {
   "cell_type": "code",
   "execution_count": 15,
   "id": "ea2432b6",
   "metadata": {
    "scrolled": true
   },
   "outputs": [
    {
     "data": {
      "text/plain": [
       "1.0     53357\n",
       "2.0       610\n",
       "5.0       264\n",
       "4.0        66\n",
       "3.0        62\n",
       "99.0        6\n",
       "Name: RatecodeID, dtype: int64"
      ]
     },
     "execution_count": 15,
     "metadata": {},
     "output_type": "execute_result"
    }
   ],
   "source": [
    "training['RatecodeID'].value_counts()"
   ]
  },
  {
   "cell_type": "code",
   "execution_count": 16,
   "id": "30b6af7a",
   "metadata": {},
   "outputs": [],
   "source": [
    "training.replace({'store_and_fwd_flag':{\"N\":0,\"Y\":1}}, inplace=True )"
   ]
  },
  {
   "cell_type": "code",
   "execution_count": 17,
   "id": "1b437e3b",
   "metadata": {},
   "outputs": [
    {
     "data": {
      "text/html": [
       "<div>\n",
       "<style scoped>\n",
       "    .dataframe tbody tr th:only-of-type {\n",
       "        vertical-align: middle;\n",
       "    }\n",
       "\n",
       "    .dataframe tbody tr th {\n",
       "        vertical-align: top;\n",
       "    }\n",
       "\n",
       "    .dataframe thead th {\n",
       "        text-align: right;\n",
       "    }\n",
       "</style>\n",
       "<table border=\"1\" class=\"dataframe\">\n",
       "  <thead>\n",
       "    <tr style=\"text-align: right;\">\n",
       "      <th></th>\n",
       "      <th>passenger_count</th>\n",
       "      <th>trip_distance</th>\n",
       "      <th>RatecodeID</th>\n",
       "      <th>store_and_fwd_flag</th>\n",
       "      <th>PULocationID</th>\n",
       "      <th>DOLocationID</th>\n",
       "      <th>fare_amount</th>\n",
       "      <th>congestion_surcharge</th>\n",
       "      <th>pickup_hour</th>\n",
       "      <th>pickup_day_of_week</th>\n",
       "      <th>time</th>\n",
       "    </tr>\n",
       "  </thead>\n",
       "  <tbody>\n",
       "    <tr>\n",
       "      <th>0</th>\n",
       "      <td>1.0</td>\n",
       "      <td>2.73</td>\n",
       "      <td>1.0</td>\n",
       "      <td>0</td>\n",
       "      <td>224</td>\n",
       "      <td>148</td>\n",
       "      <td>12.0</td>\n",
       "      <td>2.5</td>\n",
       "      <td>13</td>\n",
       "      <td>Wednesday</td>\n",
       "      <td>14.316667</td>\n",
       "    </tr>\n",
       "    <tr>\n",
       "      <th>2</th>\n",
       "      <td>1.0</td>\n",
       "      <td>2.05</td>\n",
       "      <td>1.0</td>\n",
       "      <td>0</td>\n",
       "      <td>79</td>\n",
       "      <td>68</td>\n",
       "      <td>8.0</td>\n",
       "      <td>2.5</td>\n",
       "      <td>7</td>\n",
       "      <td>Saturday</td>\n",
       "      <td>6.266667</td>\n",
       "    </tr>\n",
       "    <tr>\n",
       "      <th>3</th>\n",
       "      <td>1.0</td>\n",
       "      <td>1.40</td>\n",
       "      <td>1.0</td>\n",
       "      <td>0</td>\n",
       "      <td>236</td>\n",
       "      <td>75</td>\n",
       "      <td>6.0</td>\n",
       "      <td>2.5</td>\n",
       "      <td>15</td>\n",
       "      <td>Saturday</td>\n",
       "      <td>3.500000</td>\n",
       "    </tr>\n",
       "    <tr>\n",
       "      <th>4</th>\n",
       "      <td>1.0</td>\n",
       "      <td>0.60</td>\n",
       "      <td>1.0</td>\n",
       "      <td>0</td>\n",
       "      <td>186</td>\n",
       "      <td>90</td>\n",
       "      <td>4.0</td>\n",
       "      <td>2.5</td>\n",
       "      <td>16</td>\n",
       "      <td>Friday</td>\n",
       "      <td>1.866667</td>\n",
       "    </tr>\n",
       "    <tr>\n",
       "      <th>5</th>\n",
       "      <td>1.0</td>\n",
       "      <td>4.00</td>\n",
       "      <td>1.0</td>\n",
       "      <td>0</td>\n",
       "      <td>137</td>\n",
       "      <td>236</td>\n",
       "      <td>15.0</td>\n",
       "      <td>2.5</td>\n",
       "      <td>13</td>\n",
       "      <td>Wednesday</td>\n",
       "      <td>13.833333</td>\n",
       "    </tr>\n",
       "  </tbody>\n",
       "</table>\n",
       "</div>"
      ],
      "text/plain": [
       "   passenger_count  trip_distance  RatecodeID  store_and_fwd_flag  \\\n",
       "0              1.0           2.73         1.0                   0   \n",
       "2              1.0           2.05         1.0                   0   \n",
       "3              1.0           1.40         1.0                   0   \n",
       "4              1.0           0.60         1.0                   0   \n",
       "5              1.0           4.00         1.0                   0   \n",
       "\n",
       "   PULocationID  DOLocationID  fare_amount  congestion_surcharge  pickup_hour  \\\n",
       "0           224           148         12.0                   2.5           13   \n",
       "2            79            68          8.0                   2.5            7   \n",
       "3           236            75          6.0                   2.5           15   \n",
       "4           186            90          4.0                   2.5           16   \n",
       "5           137           236         15.0                   2.5           13   \n",
       "\n",
       "  pickup_day_of_week       time  \n",
       "0          Wednesday  14.316667  \n",
       "2           Saturday   6.266667  \n",
       "3           Saturday   3.500000  \n",
       "4             Friday   1.866667  \n",
       "5          Wednesday  13.833333  "
      ]
     },
     "execution_count": 17,
     "metadata": {},
     "output_type": "execute_result"
    }
   ],
   "source": [
    "training.head()"
   ]
  },
  {
   "cell_type": "code",
   "execution_count": 18,
   "id": "9b1e63d3",
   "metadata": {},
   "outputs": [],
   "source": [
    "training.replace({'pickup_day_of_week':{\"Sunday\":0,\"Monday\":1,\"Tuesday\":2,\"Wednesday\":3,\"Thursday\":4,\"Friday\":5,\"Saturday\":6}}, inplace=True )"
   ]
  },
  {
   "cell_type": "code",
   "execution_count": 19,
   "id": "69054cbb",
   "metadata": {},
   "outputs": [],
   "source": [
    "training['day_of_week_sin'] = np.sin(training['pickup_day_of_week'] * (2 * np.pi / 7))\n",
    "training['day_of_week_cos'] = np.cos(training['pickup_day_of_week'] * (2 * np.pi / 7))"
   ]
  },
  {
   "cell_type": "code",
   "execution_count": 20,
   "id": "266ffb07",
   "metadata": {},
   "outputs": [
    {
     "data": {
      "text/html": [
       "<div>\n",
       "<style scoped>\n",
       "    .dataframe tbody tr th:only-of-type {\n",
       "        vertical-align: middle;\n",
       "    }\n",
       "\n",
       "    .dataframe tbody tr th {\n",
       "        vertical-align: top;\n",
       "    }\n",
       "\n",
       "    .dataframe thead th {\n",
       "        text-align: right;\n",
       "    }\n",
       "</style>\n",
       "<table border=\"1\" class=\"dataframe\">\n",
       "  <thead>\n",
       "    <tr style=\"text-align: right;\">\n",
       "      <th></th>\n",
       "      <th>passenger_count</th>\n",
       "      <th>trip_distance</th>\n",
       "      <th>RatecodeID</th>\n",
       "      <th>store_and_fwd_flag</th>\n",
       "      <th>PULocationID</th>\n",
       "      <th>DOLocationID</th>\n",
       "      <th>fare_amount</th>\n",
       "      <th>congestion_surcharge</th>\n",
       "      <th>pickup_hour</th>\n",
       "      <th>time</th>\n",
       "      <th>day_of_week_sin</th>\n",
       "      <th>day_of_week_cos</th>\n",
       "    </tr>\n",
       "  </thead>\n",
       "  <tbody>\n",
       "    <tr>\n",
       "      <th>0</th>\n",
       "      <td>1.0</td>\n",
       "      <td>2.73</td>\n",
       "      <td>1.0</td>\n",
       "      <td>0</td>\n",
       "      <td>224</td>\n",
       "      <td>148</td>\n",
       "      <td>12.0</td>\n",
       "      <td>2.5</td>\n",
       "      <td>13</td>\n",
       "      <td>14.316667</td>\n",
       "      <td>0.433884</td>\n",
       "      <td>-0.900969</td>\n",
       "    </tr>\n",
       "    <tr>\n",
       "      <th>2</th>\n",
       "      <td>1.0</td>\n",
       "      <td>2.05</td>\n",
       "      <td>1.0</td>\n",
       "      <td>0</td>\n",
       "      <td>79</td>\n",
       "      <td>68</td>\n",
       "      <td>8.0</td>\n",
       "      <td>2.5</td>\n",
       "      <td>7</td>\n",
       "      <td>6.266667</td>\n",
       "      <td>-0.781831</td>\n",
       "      <td>0.623490</td>\n",
       "    </tr>\n",
       "    <tr>\n",
       "      <th>3</th>\n",
       "      <td>1.0</td>\n",
       "      <td>1.40</td>\n",
       "      <td>1.0</td>\n",
       "      <td>0</td>\n",
       "      <td>236</td>\n",
       "      <td>75</td>\n",
       "      <td>6.0</td>\n",
       "      <td>2.5</td>\n",
       "      <td>15</td>\n",
       "      <td>3.500000</td>\n",
       "      <td>-0.781831</td>\n",
       "      <td>0.623490</td>\n",
       "    </tr>\n",
       "    <tr>\n",
       "      <th>4</th>\n",
       "      <td>1.0</td>\n",
       "      <td>0.60</td>\n",
       "      <td>1.0</td>\n",
       "      <td>0</td>\n",
       "      <td>186</td>\n",
       "      <td>90</td>\n",
       "      <td>4.0</td>\n",
       "      <td>2.5</td>\n",
       "      <td>16</td>\n",
       "      <td>1.866667</td>\n",
       "      <td>-0.974928</td>\n",
       "      <td>-0.222521</td>\n",
       "    </tr>\n",
       "    <tr>\n",
       "      <th>5</th>\n",
       "      <td>1.0</td>\n",
       "      <td>4.00</td>\n",
       "      <td>1.0</td>\n",
       "      <td>0</td>\n",
       "      <td>137</td>\n",
       "      <td>236</td>\n",
       "      <td>15.0</td>\n",
       "      <td>2.5</td>\n",
       "      <td>13</td>\n",
       "      <td>13.833333</td>\n",
       "      <td>0.433884</td>\n",
       "      <td>-0.900969</td>\n",
       "    </tr>\n",
       "  </tbody>\n",
       "</table>\n",
       "</div>"
      ],
      "text/plain": [
       "   passenger_count  trip_distance  RatecodeID  store_and_fwd_flag  \\\n",
       "0              1.0           2.73         1.0                   0   \n",
       "2              1.0           2.05         1.0                   0   \n",
       "3              1.0           1.40         1.0                   0   \n",
       "4              1.0           0.60         1.0                   0   \n",
       "5              1.0           4.00         1.0                   0   \n",
       "\n",
       "   PULocationID  DOLocationID  fare_amount  congestion_surcharge  pickup_hour  \\\n",
       "0           224           148         12.0                   2.5           13   \n",
       "2            79            68          8.0                   2.5            7   \n",
       "3           236            75          6.0                   2.5           15   \n",
       "4           186            90          4.0                   2.5           16   \n",
       "5           137           236         15.0                   2.5           13   \n",
       "\n",
       "        time  day_of_week_sin  day_of_week_cos  \n",
       "0  14.316667         0.433884        -0.900969  \n",
       "2   6.266667        -0.781831         0.623490  \n",
       "3   3.500000        -0.781831         0.623490  \n",
       "4   1.866667        -0.974928        -0.222521  \n",
       "5  13.833333         0.433884        -0.900969  "
      ]
     },
     "execution_count": 20,
     "metadata": {},
     "output_type": "execute_result"
    }
   ],
   "source": [
    "training.pop('pickup_day_of_week')\n",
    "training.head()"
   ]
  },
  {
   "cell_type": "code",
   "execution_count": 21,
   "id": "f614ccad",
   "metadata": {},
   "outputs": [
    {
     "data": {
      "text/plain": [
       "passenger_count         0\n",
       "trip_distance           0\n",
       "RatecodeID              0\n",
       "store_and_fwd_flag      0\n",
       "PULocationID            0\n",
       "DOLocationID            0\n",
       "fare_amount             0\n",
       "congestion_surcharge    0\n",
       "pickup_hour             0\n",
       "time                    0\n",
       "day_of_week_sin         0\n",
       "day_of_week_cos         0\n",
       "dtype: int64"
      ]
     },
     "execution_count": 21,
     "metadata": {},
     "output_type": "execute_result"
    }
   ],
   "source": [
    "training.isnull().sum()"
   ]
  },
  {
   "cell_type": "markdown",
   "id": "b9697a4d",
   "metadata": {},
   "source": [
    "## Trimming Test Data"
   ]
  },
  {
   "cell_type": "code",
   "execution_count": 22,
   "id": "f54f32e4",
   "metadata": {},
   "outputs": [
    {
     "data": {
      "text/html": [
       "<div>\n",
       "<style scoped>\n",
       "    .dataframe tbody tr th:only-of-type {\n",
       "        vertical-align: middle;\n",
       "    }\n",
       "\n",
       "    .dataframe tbody tr th {\n",
       "        vertical-align: top;\n",
       "    }\n",
       "\n",
       "    .dataframe thead th {\n",
       "        text-align: right;\n",
       "    }\n",
       "</style>\n",
       "<table border=\"1\" class=\"dataframe\">\n",
       "  <thead>\n",
       "    <tr style=\"text-align: right;\">\n",
       "      <th></th>\n",
       "      <th>passenger_count</th>\n",
       "      <th>trip_distance</th>\n",
       "      <th>RatecodeID</th>\n",
       "      <th>store_and_fwd_flag</th>\n",
       "      <th>PULocationID</th>\n",
       "      <th>DOLocationID</th>\n",
       "      <th>congestion_surcharge</th>\n",
       "      <th>pickup_hour</th>\n",
       "      <th>time</th>\n",
       "      <th>day_of_week_sin</th>\n",
       "      <th>day_of_week_cos</th>\n",
       "    </tr>\n",
       "  </thead>\n",
       "  <tbody>\n",
       "    <tr>\n",
       "      <th>0</th>\n",
       "      <td>1.0</td>\n",
       "      <td>1.66</td>\n",
       "      <td>1.0</td>\n",
       "      <td>0.0</td>\n",
       "      <td>48</td>\n",
       "      <td>90</td>\n",
       "      <td>2.5</td>\n",
       "      <td>18</td>\n",
       "      <td>5.683333</td>\n",
       "      <td>0.974928</td>\n",
       "      <td>-0.222521</td>\n",
       "    </tr>\n",
       "    <tr>\n",
       "      <th>1</th>\n",
       "      <td>3.0</td>\n",
       "      <td>1.50</td>\n",
       "      <td>1.0</td>\n",
       "      <td>0.0</td>\n",
       "      <td>48</td>\n",
       "      <td>246</td>\n",
       "      <td>2.5</td>\n",
       "      <td>23</td>\n",
       "      <td>7.000000</td>\n",
       "      <td>-0.781831</td>\n",
       "      <td>0.623490</td>\n",
       "    </tr>\n",
       "    <tr>\n",
       "      <th>2</th>\n",
       "      <td>1.0</td>\n",
       "      <td>1.90</td>\n",
       "      <td>1.0</td>\n",
       "      <td>0.0</td>\n",
       "      <td>237</td>\n",
       "      <td>234</td>\n",
       "      <td>2.5</td>\n",
       "      <td>12</td>\n",
       "      <td>7.166667</td>\n",
       "      <td>0.974928</td>\n",
       "      <td>-0.222521</td>\n",
       "    </tr>\n",
       "    <tr>\n",
       "      <th>3</th>\n",
       "      <td>1.0</td>\n",
       "      <td>0.27</td>\n",
       "      <td>1.0</td>\n",
       "      <td>0.0</td>\n",
       "      <td>170</td>\n",
       "      <td>170</td>\n",
       "      <td>2.5</td>\n",
       "      <td>9</td>\n",
       "      <td>2.550000</td>\n",
       "      <td>-0.781831</td>\n",
       "      <td>0.623490</td>\n",
       "    </tr>\n",
       "    <tr>\n",
       "      <th>4</th>\n",
       "      <td>2.0</td>\n",
       "      <td>4.06</td>\n",
       "      <td>1.0</td>\n",
       "      <td>0.0</td>\n",
       "      <td>186</td>\n",
       "      <td>238</td>\n",
       "      <td>2.5</td>\n",
       "      <td>18</td>\n",
       "      <td>16.800000</td>\n",
       "      <td>0.974928</td>\n",
       "      <td>-0.222521</td>\n",
       "    </tr>\n",
       "  </tbody>\n",
       "</table>\n",
       "</div>"
      ],
      "text/plain": [
       "   passenger_count  trip_distance  RatecodeID  store_and_fwd_flag  \\\n",
       "0              1.0           1.66         1.0                 0.0   \n",
       "1              3.0           1.50         1.0                 0.0   \n",
       "2              1.0           1.90         1.0                 0.0   \n",
       "3              1.0           0.27         1.0                 0.0   \n",
       "4              2.0           4.06         1.0                 0.0   \n",
       "\n",
       "   PULocationID  DOLocationID  congestion_surcharge  pickup_hour       time  \\\n",
       "0            48            90                   2.5           18   5.683333   \n",
       "1            48           246                   2.5           23   7.000000   \n",
       "2           237           234                   2.5           12   7.166667   \n",
       "3           170           170                   2.5            9   2.550000   \n",
       "4           186           238                   2.5           18  16.800000   \n",
       "\n",
       "   day_of_week_sin  day_of_week_cos  \n",
       "0         0.974928        -0.222521  \n",
       "1        -0.781831         0.623490  \n",
       "2         0.974928        -0.222521  \n",
       "3        -0.781831         0.623490  \n",
       "4         0.974928        -0.222521  "
      ]
     },
     "execution_count": 22,
     "metadata": {},
     "output_type": "execute_result"
    }
   ],
   "source": [
    "test['tpep_pickup_datetime']=pd.to_datetime(test['tpep_pickup_datetime'],format='%Y-%m-%d %H:%M:%S')\n",
    "test['tpep_dropoff_datetime']=pd.to_datetime(test['tpep_dropoff_datetime'],format='%Y-%m-%d %H:%M:%S')\n",
    "test['pickup_hour']=test['tpep_pickup_datetime'].apply(lambda x:x.hour)\n",
    "test['pickup_day_of_week']=test['tpep_pickup_datetime'].apply(lambda x:calendar.day_name[x.weekday()])\n",
    "test['time'] = (test.tpep_dropoff_datetime - test.tpep_pickup_datetime) / pd.Timedelta(minutes=1)\n",
    "test =  test.drop(['tpep_pickup_datetime','tpep_dropoff_datetime','VendorID','payment_type'],axis = 1)\n",
    "test.replace({'store_and_fwd_flag':{\"N\":0,\"Y\":1}}, inplace=True )\n",
    "test.replace({'pickup_day_of_week':{\"Sunday\":0,\"Monday\":1,\"Tuesday\":2,\"Wednesday\":3,\"Thursday\":4,\"Friday\":5,\"Saturday\":6}}, inplace=True )\n",
    "test['day_of_week_sin'] = np.sin(test['pickup_day_of_week'] * (2 * np.pi / 7))\n",
    "test['day_of_week_cos'] = np.cos(test['pickup_day_of_week'] * (2 * np.pi / 7))\n",
    "test = test.drop(['pickup_day_of_week'],axis = 1)\n",
    "test.head()"
   ]
  },
  {
   "cell_type": "markdown",
   "id": "550daff2",
   "metadata": {},
   "source": [
    "## Splitting Data"
   ]
  },
  {
   "cell_type": "code",
   "execution_count": 23,
   "id": "d96a76f5",
   "metadata": {},
   "outputs": [],
   "source": [
    "X = training.drop('fare_amount',axis = 1)\n",
    "Y = training['fare_amount']"
   ]
  },
  {
   "cell_type": "code",
   "execution_count": 24,
   "id": "d227aa61",
   "metadata": {},
   "outputs": [],
   "source": [
    "X_train, X_valid, Y_train, Y_valid = train_test_split(X,Y,test_size = 0.2, random_state = 4)"
   ]
  },
  {
   "cell_type": "markdown",
   "id": "aa8673ef",
   "metadata": {},
   "source": [
    "## Linear Regression"
   ]
  },
  {
   "cell_type": "code",
   "execution_count": 25,
   "id": "59b928be",
   "metadata": {},
   "outputs": [],
   "source": [
    "lin_reg_model = LinearRegression()"
   ]
  },
  {
   "cell_type": "code",
   "execution_count": 26,
   "id": "f96f44a9",
   "metadata": {},
   "outputs": [
    {
     "data": {
      "text/plain": [
       "LinearRegression()"
      ]
     },
     "execution_count": 26,
     "metadata": {},
     "output_type": "execute_result"
    }
   ],
   "source": [
    "lin_reg_model.fit(X_train,Y_train)"
   ]
  },
  {
   "cell_type": "code",
   "execution_count": 27,
   "id": "cc769d2e",
   "metadata": {},
   "outputs": [],
   "source": [
    "training_data_prediction = lin_reg_model.predict(X_train)"
   ]
  },
  {
   "cell_type": "code",
   "execution_count": 28,
   "id": "653743b9",
   "metadata": {},
   "outputs": [
    {
     "name": "stdout",
     "output_type": "stream",
     "text": [
      "R2 Score: 0.5955034286791389\n",
      "Mean Squared Error: 38.25868497600965\n"
     ]
    }
   ],
   "source": [
    "score_LR_train = metrics.r2_score(training_data_prediction,Y_train)\n",
    "print(f\"R2 Score: {score_LR_train}\")\n",
    "error_LR_train = metrics.mean_squared_error(training_data_prediction,Y_train)\n",
    "print(f\"Mean Squared Error: {error_LR_train}\")"
   ]
  },
  {
   "cell_type": "code",
   "execution_count": 29,
   "id": "083f912d",
   "metadata": {},
   "outputs": [
    {
     "data": {
      "image/png": "[encoded data removed]",
      "text/plain": [
       "<Figure size 432x288 with 1 Axes>"
      ]
     },
     "metadata": {
      "needs_background": "light"
     },
     "output_type": "display_data"
    }
   ],
   "source": [
    "plt.scatter(Y_train,training_data_prediction)\n",
    "plt.xlabel(\"Actual Fare\")\n",
    "plt.ylabel(\"Predicted Fare\")\n",
    "plt.title(\"Actual Fare vs Predicted Fare\")\n",
    "plt.show()"
   ]
  },
  {
   "cell_type": "code",
   "execution_count": 30,
   "id": "8a1f4ce8",
   "metadata": {},
   "outputs": [
    {
     "name": "stdout",
     "output_type": "stream",
     "text": [
      "R2 Score: 0.7020139376829979\n",
      "Mean Squared Error: 25.15227582066491\n"
     ]
    },
    {
     "data": {
      "image/png": "[encoded data removed]",
      "text/plain": [
       "<Figure size 432x288 with 1 Axes>"
      ]
     },
     "metadata": {
      "needs_background": "light"
     },
     "output_type": "display_data"
    }
   ],
   "source": [
    "test_data_prediction = lin_reg_model.predict(X_valid)\n",
    "score_LR_valid = metrics.r2_score(test_data_prediction,Y_valid)\n",
    "print(f\"R2 Score: {score_LR_valid}\")\n",
    "error_LR_valid = metrics.mean_squared_error(test_data_prediction,Y_valid)\n",
    "print(f\"Mean Squared Error: {error_LR_valid}\")\n",
    "plt.scatter(Y_valid,test_data_prediction)\n",
    "plt.xlabel(\"Actual Prices\")\n",
    "plt.ylabel(\"Predicted Prices\")\n",
    "plt.title(\"Actual Prices vs Predicted Prices\")\n",
    "plt.show()"
   ]
  },
  {
   "cell_type": "code",
   "execution_count": 31,
   "id": "ef100fb2",
   "metadata": {},
   "outputs": [
    {
     "name": "stdout",
     "output_type": "stream",
     "text": [
      "[20:03:54] WARNING: C:/Users/Administrator/workspace/xgboost-win64_release_1.4.0/src/learner.cc:573: \n",
      "Parameters: { \"n_estimators\", \"silent\" } might not be used.\n",
      "\n",
      "  This may not be accurate due to some parameters are only used in language bindings but\n",
      "  passed down to XGBoost core.  Or some parameters are not used but slip through this\n",
      "  verification. Please open an issue if you find above cases.\n",
      "\n",
      "\n",
      "[0]\ttrain-rmse:15.60988\tvalid-rmse:14.61519\n",
      "[50]\ttrain-rmse:2.84633\tvalid-rmse:3.09819\n",
      "[100]\ttrain-rmse:1.49920\tvalid-rmse:2.78685\n",
      "[150]\ttrain-rmse:1.14491\tvalid-rmse:2.80241\n",
      "[200]\ttrain-rmse:0.97507\tvalid-rmse:2.81724\n",
      "[213]\ttrain-rmse:0.93905\tvalid-rmse:2.82682\n"
     ]
    }
   ],
   "source": [
    "dtrain = xgb.DMatrix(X_train, label=Y_train)\n",
    "dvalid = xgb.DMatrix(X_valid, label=Y_valid)\n",
    "dtest = xgb.DMatrix(test)\n",
    "watchlist = [(dtrain, 'train'), (dvalid, 'valid')]\n",
    "\n",
    "xgb_params = {\n",
    "    'min_child_weight': 1, \n",
    "    'learning_rate': 0.05, \n",
    "    'colsample_bytree': 0.7, \n",
    "    'max_depth': 10,\n",
    "    'subsample': 0.7,\n",
    "    'n_estimators': 5000,\n",
    "    'n_jobs': -1, \n",
    "    'booster' : 'gbtree', \n",
    "    'silent': 1,\n",
    "    'eval_metric': 'rmse'}\n",
    "\n",
    "model = xgb.train(xgb_params, dtrain, 1000, watchlist, early_stopping_rounds=100, maximize=False, verbose_eval=50)"
   ]
  },
  {
   "cell_type": "code",
   "execution_count": 38,
   "id": "e9fa098c",
   "metadata": {},
   "outputs": [
    {
     "name": "stdout",
     "output_type": "stream",
     "text": [
      "R2 Score: 0.993219784323409\n",
      "Mean Squared Error: 0.8784559437744833\n"
     ]
    }
   ],
   "source": [
    "pred_train = model.predict(dtrain)\n",
    "score_XGB_train = metrics.r2_score(pred_train,Y_train)\n",
    "print(f\"R2 Score: {score_XGB_train}\")\n",
    "error_XGB_train = metrics.mean_squared_error(pred_train,Y_train)\n",
    "print(f\"Mean Squared Error: {error_XGB_train}\")"
   ]
  },
  {
   "cell_type": "code",
   "execution_count": 33,
   "id": "689451f9",
   "metadata": {},
   "outputs": [
    {
     "name": "stdout",
     "output_type": "stream",
     "text": [
      "R2 Score: 0.9235718515612115\n",
      "Mean Squared Error: 7.988051728323083\n"
     ]
    },
    {
     "data": {
      "image/png": "[encoded data removed]",
      "text/plain": [
       "<Figure size 432x288 with 1 Axes>"
      ]
     },
     "metadata": {
      "needs_background": "light"
     },
     "output_type": "display_data"
    }
   ],
   "source": [
    "pred_valid = model.predict(dvalid)\n",
    "score_XGB_valid = metrics.r2_score(pred_valid,Y_valid)\n",
    "print(f\"R2 Score: {score_XGB_valid}\")\n",
    "error_XGB_valid = metrics.mean_squared_error(pred_valid,Y_valid)\n",
    "print(f\"Mean Squared Error: {error_XGB_valid}\")\n",
    "plt.scatter(Y_valid,pred_valid)\n",
    "plt.xlabel(\"Actual Fare\")\n",
    "plt.ylabel(\"Predicted Fare\")\n",
    "plt.title(\"Actual Fare vs Predicted Fare\")\n",
    "plt.show()\n"
   ]
  },
  {
   "cell_type": "code",
   "execution_count": 34,
   "id": "8c0abe28",
   "metadata": {},
   "outputs": [
    {
     "data": {
      "text/html": [
       "<div>\n",
       "<style scoped>\n",
       "    .dataframe tbody tr th:only-of-type {\n",
       "        vertical-align: middle;\n",
       "    }\n",
       "\n",
       "    .dataframe tbody tr th {\n",
       "        vertical-align: top;\n",
       "    }\n",
       "\n",
       "    .dataframe thead th {\n",
       "        text-align: right;\n",
       "    }\n",
       "</style>\n",
       "<table border=\"1\" class=\"dataframe\">\n",
       "  <thead>\n",
       "    <tr style=\"text-align: right;\">\n",
       "      <th></th>\n",
       "      <th>passenger_count</th>\n",
       "      <th>trip_distance</th>\n",
       "      <th>RatecodeID</th>\n",
       "      <th>store_and_fwd_flag</th>\n",
       "      <th>PULocationID</th>\n",
       "      <th>DOLocationID</th>\n",
       "      <th>congestion_surcharge</th>\n",
       "      <th>pickup_hour</th>\n",
       "      <th>time</th>\n",
       "      <th>day_of_week_sin</th>\n",
       "      <th>day_of_week_cos</th>\n",
       "      <th>fare_amount</th>\n",
       "    </tr>\n",
       "  </thead>\n",
       "  <tbody>\n",
       "    <tr>\n",
       "      <th>0</th>\n",
       "      <td>1.0</td>\n",
       "      <td>1.66</td>\n",
       "      <td>1.0</td>\n",
       "      <td>0.0</td>\n",
       "      <td>48</td>\n",
       "      <td>90</td>\n",
       "      <td>2.5</td>\n",
       "      <td>18</td>\n",
       "      <td>5.683333</td>\n",
       "      <td>0.974928</td>\n",
       "      <td>-0.222521</td>\n",
       "      <td>7.104831</td>\n",
       "    </tr>\n",
       "    <tr>\n",
       "      <th>1</th>\n",
       "      <td>3.0</td>\n",
       "      <td>1.50</td>\n",
       "      <td>1.0</td>\n",
       "      <td>0.0</td>\n",
       "      <td>48</td>\n",
       "      <td>246</td>\n",
       "      <td>2.5</td>\n",
       "      <td>23</td>\n",
       "      <td>7.000000</td>\n",
       "      <td>-0.781831</td>\n",
       "      <td>0.623490</td>\n",
       "      <td>6.977403</td>\n",
       "    </tr>\n",
       "    <tr>\n",
       "      <th>2</th>\n",
       "      <td>1.0</td>\n",
       "      <td>1.90</td>\n",
       "      <td>1.0</td>\n",
       "      <td>0.0</td>\n",
       "      <td>237</td>\n",
       "      <td>234</td>\n",
       "      <td>2.5</td>\n",
       "      <td>12</td>\n",
       "      <td>7.166667</td>\n",
       "      <td>0.974928</td>\n",
       "      <td>-0.222521</td>\n",
       "      <td>8.064060</td>\n",
       "    </tr>\n",
       "    <tr>\n",
       "      <th>3</th>\n",
       "      <td>1.0</td>\n",
       "      <td>0.27</td>\n",
       "      <td>1.0</td>\n",
       "      <td>0.0</td>\n",
       "      <td>170</td>\n",
       "      <td>170</td>\n",
       "      <td>2.5</td>\n",
       "      <td>9</td>\n",
       "      <td>2.550000</td>\n",
       "      <td>-0.781831</td>\n",
       "      <td>0.623490</td>\n",
       "      <td>3.817357</td>\n",
       "    </tr>\n",
       "    <tr>\n",
       "      <th>4</th>\n",
       "      <td>2.0</td>\n",
       "      <td>4.06</td>\n",
       "      <td>1.0</td>\n",
       "      <td>0.0</td>\n",
       "      <td>186</td>\n",
       "      <td>238</td>\n",
       "      <td>2.5</td>\n",
       "      <td>18</td>\n",
       "      <td>16.800000</td>\n",
       "      <td>0.974928</td>\n",
       "      <td>-0.222521</td>\n",
       "      <td>15.286615</td>\n",
       "    </tr>\n",
       "  </tbody>\n",
       "</table>\n",
       "</div>"
      ],
      "text/plain": [
       "   passenger_count  trip_distance  RatecodeID  store_and_fwd_flag  \\\n",
       "0              1.0           1.66         1.0                 0.0   \n",
       "1              3.0           1.50         1.0                 0.0   \n",
       "2              1.0           1.90         1.0                 0.0   \n",
       "3              1.0           0.27         1.0                 0.0   \n",
       "4              2.0           4.06         1.0                 0.0   \n",
       "\n",
       "   PULocationID  DOLocationID  congestion_surcharge  pickup_hour       time  \\\n",
       "0            48            90                   2.5           18   5.683333   \n",
       "1            48           246                   2.5           23   7.000000   \n",
       "2           237           234                   2.5           12   7.166667   \n",
       "3           170           170                   2.5            9   2.550000   \n",
       "4           186           238                   2.5           18  16.800000   \n",
       "\n",
       "   day_of_week_sin  day_of_week_cos  fare_amount  \n",
       "0         0.974928        -0.222521     7.104831  \n",
       "1        -0.781831         0.623490     6.977403  \n",
       "2         0.974928        -0.222521     8.064060  \n",
       "3        -0.781831         0.623490     3.817357  \n",
       "4         0.974928        -0.222521    15.286615  "
      ]
     },
     "execution_count": 34,
     "metadata": {},
     "output_type": "execute_result"
    }
   ],
   "source": [
    "pred_test = model.predict(dtest)\n",
    "test['fare_amount'] = pred_test\n",
    "test.head()"
   ]
  },
  {
   "cell_type": "markdown",
   "id": "15f5ffa8",
   "metadata": {},
   "source": [
    "## Final Output and creating .csv file"
   ]
  },
  {
   "cell_type": "code",
   "execution_count": 35,
   "id": "53bc5f51",
   "metadata": {
    "scrolled": true
   },
   "outputs": [
    {
     "name": "stdout",
     "output_type": "stream",
     "text": [
      "We get 70.20% accuracy on Validation set for Linear Regression\n",
      "We get 92.36% accuracy on Validation set for XGBoost\n"
     ]
    }
   ],
   "source": [
    "print(f\"We get {score_LR_valid * 100:0.2f}% accuracy on Validation set for Linear Regression\")\n",
    "print(f\"We get {score_XGB_valid * 100:0.2f}% accuracy on Validation set for XGBoost\")"
   ]
  },
  {
   "cell_type": "code",
   "execution_count": 36,
   "id": "84cd69df",
   "metadata": {},
   "outputs": [],
   "source": [
    "data = pd.read_csv('test_data_iitm.csv')\n",
    "data['fare_amount'] = pred_test\n",
    "data.to_csv('AE19B019_PIYUSH_BHUJBAL_predictions.csv', index=False)"
   ]
  }
 ],
 "metadata": {
  "kernelspec": {
   "display_name": "Python 3",
   "language": "python",
   "name": "python3"
  },
  "language_info": {
   "codemirror_mode": {
    "name": "ipython",
    "version": 3
   },
   "file_extension": ".py",
   "mimetype": "text/x-python",
   "name": "python",
   "nbconvert_exporter": "python",
   "pygments_lexer": "ipython3",
   "version": "3.8.8"
  }
 },
 "nbformat": 4,
 "nbformat_minor": 5
}
